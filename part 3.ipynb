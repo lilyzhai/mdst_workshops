{
 "cells": [
  {
   "cell_type": "code",
   "execution_count": 4,
   "metadata": {},
   "outputs": [
    {
     "name": "stdout",
     "output_type": "stream",
     "text": [
      "0.9772498680518208\n"
     ]
    }
   ],
   "source": [
    "%matplotlib notebook\n",
    "%matplotlib inline\n",
    "\n",
    "import pandas as pd\n",
    "\n",
    "import matplotlib.pyplot as plt\n",
    "\n",
    "import numpy as np\n",
    "import scipy.stats; print(scipy.stats.norm.cdf(2.0))"
   ]
  },
  {
   "cell_type": "code",
   "execution_count": 5,
   "metadata": {},
   "outputs": [
    {
     "data": {
      "text/html": [
       "<div>\n",
       "<style scoped>\n",
       "    .dataframe tbody tr th:only-of-type {\n",
       "        vertical-align: middle;\n",
       "    }\n",
       "\n",
       "    .dataframe tbody tr th {\n",
       "        vertical-align: top;\n",
       "    }\n",
       "\n",
       "    .dataframe thead th {\n",
       "        text-align: right;\n",
       "    }\n",
       "</style>\n",
       "<table border=\"1\" class=\"dataframe\">\n",
       "  <thead>\n",
       "    <tr style=\"text-align: right;\">\n",
       "      <th></th>\n",
       "      <th>ID</th>\n",
       "      <th>AdmissionLengthDays</th>\n",
       "      <th>Death_1</th>\n",
       "      <th>Admission_Type</th>\n",
       "      <th>Insurance_Type</th>\n",
       "      <th>EnglishLanguage_1</th>\n",
       "      <th>Religion_Type</th>\n",
       "      <th>Married_1</th>\n",
       "      <th>Race</th>\n",
       "      <th>Dx</th>\n",
       "    </tr>\n",
       "  </thead>\n",
       "  <tbody>\n",
       "    <tr>\n",
       "      <th>0</th>\n",
       "      <td>42862</td>\n",
       "      <td>4.277778</td>\n",
       "      <td>0</td>\n",
       "      <td>elective</td>\n",
       "      <td>private</td>\n",
       "      <td>1</td>\n",
       "      <td>episcopalian</td>\n",
       "      <td>1</td>\n",
       "      <td>white</td>\n",
       "      <td>mitral stenosis\\mitral valve replacement /sda</td>\n",
       "    </tr>\n",
       "    <tr>\n",
       "      <th>1</th>\n",
       "      <td>5967</td>\n",
       "      <td>26.122917</td>\n",
       "      <td>0</td>\n",
       "      <td>elective</td>\n",
       "      <td>private</td>\n",
       "      <td>0</td>\n",
       "      <td>catholic</td>\n",
       "      <td>1</td>\n",
       "      <td>white</td>\n",
       "      <td>duodenal mass/sda</td>\n",
       "    </tr>\n",
       "    <tr>\n",
       "      <th>2</th>\n",
       "      <td>50952</td>\n",
       "      <td>7.028472</td>\n",
       "      <td>1</td>\n",
       "      <td>emergency</td>\n",
       "      <td>medicare</td>\n",
       "      <td>1</td>\n",
       "      <td>catholic</td>\n",
       "      <td>0</td>\n",
       "      <td>asian - japanese</td>\n",
       "      <td>? serotonin syndrome</td>\n",
       "    </tr>\n",
       "    <tr>\n",
       "      <th>3</th>\n",
       "      <td>17138</td>\n",
       "      <td>34.187500</td>\n",
       "      <td>0</td>\n",
       "      <td>elective</td>\n",
       "      <td>medicare</td>\n",
       "      <td>1</td>\n",
       "      <td>catholic</td>\n",
       "      <td>1</td>\n",
       "      <td>white</td>\n",
       "      <td>abdominal aortic aneurysm/sda</td>\n",
       "    </tr>\n",
       "    <tr>\n",
       "      <th>4</th>\n",
       "      <td>27703</td>\n",
       "      <td>6.165972</td>\n",
       "      <td>0</td>\n",
       "      <td>elective</td>\n",
       "      <td>government</td>\n",
       "      <td>0</td>\n",
       "      <td>protestant quaker</td>\n",
       "      <td>0</td>\n",
       "      <td>black/african american</td>\n",
       "      <td>absence/sda</td>\n",
       "    </tr>\n",
       "  </tbody>\n",
       "</table>\n",
       "</div>"
      ],
      "text/plain": [
       "      ID  AdmissionLengthDays  Death_1 Admission_Type Insurance_Type  \\\n",
       "0  42862             4.277778        0       elective        private   \n",
       "1   5967            26.122917        0       elective        private   \n",
       "2  50952             7.028472        1      emergency       medicare   \n",
       "3  17138            34.187500        0       elective       medicare   \n",
       "4  27703             6.165972        0       elective     government   \n",
       "\n",
       "   EnglishLanguage_1      Religion_Type  Married_1                    Race  \\\n",
       "0                  1       episcopalian          1                   white   \n",
       "1                  0           catholic          1                   white   \n",
       "2                  1           catholic          0        asian - japanese   \n",
       "3                  1           catholic          1                   white   \n",
       "4                  0  protestant quaker          0  black/african american   \n",
       "\n",
       "                                                Dx  \n",
       "0    mitral stenosis\\mitral valve replacement /sda  \n",
       "1                                duodenal mass/sda  \n",
       "2                             ? serotonin syndrome  \n",
       "3                    abdominal aortic aneurysm/sda  \n",
       "4                                      absence/sda  "
      ]
     },
     "execution_count": 5,
     "metadata": {},
     "output_type": "execute_result"
    }
   ],
   "source": [
    "df = pd.read_csv(\"./HospitalAdmissionsData.csv\")\n",
    "type(df)\n",
    "df.head()"
   ]
  },
  {
   "cell_type": "code",
   "execution_count": 6,
   "metadata": {},
   "outputs": [
    {
     "data": {
      "text/html": [
       "<div>\n",
       "<style scoped>\n",
       "    .dataframe tbody tr th:only-of-type {\n",
       "        vertical-align: middle;\n",
       "    }\n",
       "\n",
       "    .dataframe tbody tr th {\n",
       "        vertical-align: top;\n",
       "    }\n",
       "\n",
       "    .dataframe thead th {\n",
       "        text-align: right;\n",
       "    }\n",
       "</style>\n",
       "<table border=\"1\" class=\"dataframe\">\n",
       "  <thead>\n",
       "    <tr style=\"text-align: right;\">\n",
       "      <th></th>\n",
       "      <th>ID</th>\n",
       "      <th>AdmissionLengthDays</th>\n",
       "      <th>Death_1</th>\n",
       "      <th>Admission_Type</th>\n",
       "      <th>Insurance_Type</th>\n",
       "      <th>EnglishLanguage_1</th>\n",
       "      <th>Religion_Type</th>\n",
       "      <th>Married_1</th>\n",
       "      <th>Race</th>\n",
       "      <th>Dx</th>\n",
       "    </tr>\n",
       "  </thead>\n",
       "  <tbody>\n",
       "    <tr>\n",
       "      <th>0</th>\n",
       "      <td>42862</td>\n",
       "      <td>4.277778</td>\n",
       "      <td>0</td>\n",
       "      <td>elective</td>\n",
       "      <td>private</td>\n",
       "      <td>1</td>\n",
       "      <td>episcopalian</td>\n",
       "      <td>1</td>\n",
       "      <td>white</td>\n",
       "      <td>mitral stenosis\\mitral valve replacement /sda</td>\n",
       "    </tr>\n",
       "    <tr>\n",
       "      <th>1</th>\n",
       "      <td>5967</td>\n",
       "      <td>26.122917</td>\n",
       "      <td>0</td>\n",
       "      <td>elective</td>\n",
       "      <td>private</td>\n",
       "      <td>0</td>\n",
       "      <td>catholic</td>\n",
       "      <td>1</td>\n",
       "      <td>white</td>\n",
       "      <td>duodenal mass/sda</td>\n",
       "    </tr>\n",
       "    <tr>\n",
       "      <th>2</th>\n",
       "      <td>50952</td>\n",
       "      <td>7.028472</td>\n",
       "      <td>1</td>\n",
       "      <td>emergency</td>\n",
       "      <td>medicare</td>\n",
       "      <td>1</td>\n",
       "      <td>catholic</td>\n",
       "      <td>0</td>\n",
       "      <td>asian - japanese</td>\n",
       "      <td>? serotonin syndrome</td>\n",
       "    </tr>\n",
       "    <tr>\n",
       "      <th>3</th>\n",
       "      <td>17138</td>\n",
       "      <td>34.187500</td>\n",
       "      <td>0</td>\n",
       "      <td>elective</td>\n",
       "      <td>medicare</td>\n",
       "      <td>1</td>\n",
       "      <td>catholic</td>\n",
       "      <td>1</td>\n",
       "      <td>white</td>\n",
       "      <td>abdominal aortic aneurysm/sda</td>\n",
       "    </tr>\n",
       "    <tr>\n",
       "      <th>4</th>\n",
       "      <td>27703</td>\n",
       "      <td>6.165972</td>\n",
       "      <td>0</td>\n",
       "      <td>elective</td>\n",
       "      <td>government</td>\n",
       "      <td>0</td>\n",
       "      <td>protestant quaker</td>\n",
       "      <td>0</td>\n",
       "      <td>black/african american</td>\n",
       "      <td>absence/sda</td>\n",
       "    </tr>\n",
       "  </tbody>\n",
       "</table>\n",
       "</div>"
      ],
      "text/plain": [
       "      ID  AdmissionLengthDays  Death_1 Admission_Type Insurance_Type  \\\n",
       "0  42862             4.277778        0       elective        private   \n",
       "1   5967            26.122917        0       elective        private   \n",
       "2  50952             7.028472        1      emergency       medicare   \n",
       "3  17138            34.187500        0       elective       medicare   \n",
       "4  27703             6.165972        0       elective     government   \n",
       "\n",
       "   EnglishLanguage_1      Religion_Type  Married_1                    Race  \\\n",
       "0                  1       episcopalian          1                   white   \n",
       "1                  0           catholic          1                   white   \n",
       "2                  1           catholic          0        asian - japanese   \n",
       "3                  1           catholic          1                   white   \n",
       "4                  0  protestant quaker          0  black/african american   \n",
       "\n",
       "                                                Dx  \n",
       "0    mitral stenosis\\mitral valve replacement /sda  \n",
       "1                                duodenal mass/sda  \n",
       "2                             ? serotonin syndrome  \n",
       "3                    abdominal aortic aneurysm/sda  \n",
       "4                                      absence/sda  "
      ]
     },
     "execution_count": 6,
     "metadata": {},
     "output_type": "execute_result"
    }
   ],
   "source": [
    "#What are the column headers or features in this data set?\n",
    "df.head()\n",
    "# they are ID, AdmissionLengthDays, Dead or alive, Admission Type, Insurance Type, if they speak english or not, \n",
    "#Religion Type, married or not, race, diagnosis"
   ]
  },
  {
   "cell_type": "code",
   "execution_count": 7,
   "metadata": {},
   "outputs": [
    {
     "name": "stdout",
     "output_type": "stream",
     "text": [
      "<class 'pandas.core.frame.DataFrame'>\n",
      "RangeIndex: 58863 entries, 0 to 58862\n",
      "Data columns (total 10 columns):\n",
      " #   Column               Non-Null Count  Dtype  \n",
      "---  ------               --------------  -----  \n",
      " 0   ID                   58863 non-null  int64  \n",
      " 1   AdmissionLengthDays  58863 non-null  float64\n",
      " 2   Death_1              58863 non-null  int64  \n",
      " 3   Admission_Type       58863 non-null  object \n",
      " 4   Insurance_Type       58863 non-null  object \n",
      " 5   EnglishLanguage_1    58863 non-null  int64  \n",
      " 6   Religion_Type        58408 non-null  object \n",
      " 7   Married_1            58863 non-null  int64  \n",
      " 8   Race                 58863 non-null  object \n",
      " 9   Dx                   58863 non-null  object \n",
      "dtypes: float64(1), int64(4), object(5)\n",
      "memory usage: 4.5+ MB\n"
     ]
    }
   ],
   "source": [
    "#How many features are floats? How many are integers? Which features are objects (non-numeric variables)?\n",
    "df.info()\n",
    "# there are 1 feature that is floats, and 4 are integers\n",
    "#Admission_Type,Insurance_Type,Religion_Type,Race and Dx are objects\n",
    "\n"
   ]
  },
  {
   "cell_type": "code",
   "execution_count": 8,
   "metadata": {},
   "outputs": [
    {
     "data": {
      "text/plain": [
       "array(['private', 'medicare', 'government', 'medicaid', 'self pay'],\n",
       "      dtype=object)"
      ]
     },
     "execution_count": 8,
     "metadata": {},
     "output_type": "execute_result"
    }
   ],
   "source": [
    "#What are the possible 'values' for insurance type?\n",
    "df[\"Insurance_Type\"].unique()\n",
    "\n",
    "# possible values are 'private', 'medicare', 'government', 'medicaid', 'self pay'"
   ]
  },
  {
   "cell_type": "code",
   "execution_count": 9,
   "metadata": {},
   "outputs": [
    {
     "data": {
      "text/plain": [
       "count    58863.000000\n",
       "mean        10.138978\n",
       "std         12.465611\n",
       "min         -0.945139\n",
       "25%          3.743056\n",
       "50%          6.465972\n",
       "75%         11.798264\n",
       "max        294.660417\n",
       "Name: AdmissionLengthDays, dtype: float64"
      ]
     },
     "execution_count": 9,
     "metadata": {},
     "output_type": "execute_result"
    }
   ],
   "source": [
    "#Show the summary statistics for the admission length.\n",
    "df[\"AdmissionLengthDays\"].describe()"
   ]
  },
  {
   "cell_type": "code",
   "execution_count": 10,
   "metadata": {},
   "outputs": [
    {
     "data": {
      "text/html": [
       "<div>\n",
       "<style scoped>\n",
       "    .dataframe tbody tr th:only-of-type {\n",
       "        vertical-align: middle;\n",
       "    }\n",
       "\n",
       "    .dataframe tbody tr th {\n",
       "        vertical-align: top;\n",
       "    }\n",
       "\n",
       "    .dataframe thead th {\n",
       "        text-align: right;\n",
       "    }\n",
       "</style>\n",
       "<table border=\"1\" class=\"dataframe\">\n",
       "  <thead>\n",
       "    <tr style=\"text-align: right;\">\n",
       "      <th></th>\n",
       "      <th>Admission_Type</th>\n",
       "      <th>Insurance_Type</th>\n",
       "      <th>Religion_Type</th>\n",
       "      <th>Race</th>\n",
       "      <th>Dx</th>\n",
       "    </tr>\n",
       "  </thead>\n",
       "  <tbody>\n",
       "    <tr>\n",
       "      <th>0</th>\n",
       "      <td>emergency</td>\n",
       "      <td>medicare</td>\n",
       "      <td>catholic</td>\n",
       "      <td>white</td>\n",
       "      <td>newborn</td>\n",
       "    </tr>\n",
       "  </tbody>\n",
       "</table>\n",
       "</div>"
      ],
      "text/plain": [
       "  Admission_Type Insurance_Type Religion_Type   Race       Dx\n",
       "0      emergency       medicare      catholic  white  newborn"
      ]
     },
     "execution_count": 10,
     "metadata": {},
     "output_type": "execute_result"
    }
   ],
   "source": [
    "#What is the most common admission type, insurance type, religion type, race, and diagnosis (Dx)?\n",
    "\n",
    "\n",
    "\n",
    "df.filter([\"Admission_Type\", \"Insurance_Type\", \"Religion_Type\",\"Race\", \"Dx\"]).mode()"
   ]
  },
  {
   "cell_type": "code",
   "execution_count": 34,
   "metadata": {},
   "outputs": [
    {
     "data": {
      "image/png": "[encoded data removed]",
      "text/plain": [
       "<Figure size 432x288 with 1 Axes>"
      ]
     },
     "metadata": {
      "needs_background": "light"
     },
     "output_type": "display_data"
    }
   ],
   "source": [
    "#Show a histogram for admission days (with appropriate labels, titles, etc)\n",
    "plt.hist(df[\"AdmissionLengthDays\"],50, rwidth= 1.5)\n",
    "\n",
    "plt.xlabel('admission length')\n",
    "plt.ylabel('Number of people')\n",
    "plt.title('Histogram of admission days')\n",
    "\n",
    "plt.show()"
   ]
  },
  {
   "cell_type": "code",
   "execution_count": 35,
   "metadata": {},
   "outputs": [
    {
     "data": {
      "image/png": "[encoded data removed]",
      "text/plain": [
       "<Figure size 432x288 with 1 Axes>"
      ]
     },
     "metadata": {
      "needs_background": "light"
     },
     "output_type": "display_data"
    }
   ],
   "source": [
    "#and also show a histogram for admission days on a log scale. Describe what you see.\n",
    "\n",
    "plt.xlabel('admission length')\n",
    "plt.ylabel('Number of people')\n",
    "plt.title('Histogram of admission days')\n",
    "\n",
    "\n",
    "\n",
    "df[\"AdmissionLengthDays\"].plot.hist(bins = 10)\n",
    "plt.yscale(\"log\")\n",
    "\n",
    "\n",
    "plt.show()\n",
    "\n",
    "#it is a lot more clear to see the difference between each category compare to before. \n"
   ]
  },
  {
   "cell_type": "code",
   "execution_count": 70,
   "metadata": {},
   "outputs": [
    {
     "data": {
      "image/png": "[encoded data removed]",
      "text/plain": [
       "<Figure size 432x288 with 1 Axes>"
      ]
     },
     "metadata": {
      "needs_background": "light"
     },
     "output_type": "display_data"
    }
   ],
   "source": [
    "#Compare the average length of admission between those who died versus those who did not die. \n",
    "#Show a visualization, with appropriate labels, titles, etc.\n",
    "\n",
    "\n",
    "#print(df.loc[df['A'] == 'foo'])\n",
    "\n",
    "plt.xlabel('avrage admission length')\n",
    "plt.ylabel('Number of people')\n",
    "plt.title('average admission length survivals')\n",
    "\n",
    "\n",
    "dkm = df[\"AdmissionLengthDays\"][(df[\"Death_1\"]==1)].mean()\n",
    "alm = df[\"AdmissionLengthDays\"][(df[\"Death_1\"]==0)].mean()\n",
    "#dkm.mean()\n",
    "\n",
    "plt.bar([0,1],[dkm, alm], color=['b','r'])\n",
    "\n",
    "x = ['dead', 'survived']\n",
    "\n",
    "x_pos = [i for i, _ in enumerate(x)]\n",
    "plt.xticks(x_pos, x)\n",
    "\n",
    "#plt.xticks(np.arange(0, 2, step=1))\n",
    "\n",
    "plt.show()\n",
    "\n",
    "\n",
    "\n",
    "\n",
    "\n"
   ]
  },
  {
   "cell_type": "code",
   "execution_count": 76,
   "metadata": {},
   "outputs": [
    {
     "data": {
      "image/png": "[encoded data removed]",
      "text/plain": [
       "<Figure size 432x288 with 1 Axes>"
      ]
     },
     "metadata": {
      "needs_background": "light"
     },
     "output_type": "display_data"
    }
   ],
   "source": [
    "#Describe the association between death and insurance type and show a visualization or test\n",
    "\n",
    "plt.xlabel('insurance type')\n",
    "plt.ylabel('Number of death')\n",
    "plt.title('association between death and insurance type')\n",
    "\n",
    "x = ['private', 'medicare', 'government', 'medicaid', 'self pay']\n",
    "pri = df[\"Insurance_Type\"][(df[\"Death_1\"]==1)].value_counts()\n",
    "x_pos = [i for i, _ in enumerate(x)]\n",
    "\n",
    "plt.bar(x_pos, pri, color='green')\n",
    "\n",
    "plt.xticks(x_pos, x)\n",
    "plt.show()\n",
    "\n"
   ]
  },
  {
   "cell_type": "code",
   "execution_count": 33,
   "metadata": {
    "scrolled": false
   },
   "outputs": [
    {
     "data": {
      "image/png": "[encoded data removed]",
      "text/plain": [
       "<Figure size 432x288 with 3 Axes>"
      ]
     },
     "metadata": {},
     "output_type": "display_data"
    }
   ],
   "source": [
    "#Recreate this figure:\n",
    "\n",
    "x = np.linspace(0, 10, 100)\n",
    "y1, y2, y3 = np.cos(x), np.cos(x + 1), np.cos(x + 2)\n",
    "names = ['Signal 1', 'Signal 2', 'Signal 3']\n",
    "\n",
    "fig, axes = plt.subplots(nrows=3)\n",
    "\n",
    "for ax, y, name in zip(axes, [y1, y2, y3], names):\n",
    "    ax.plot(x, y, color='black')\n",
    "    ax.set(xticks=[], yticks=[], title=name)\n",
    "\n",
    "plt.show()\n"
   ]
  },
  {
   "cell_type": "code",
   "execution_count": null,
   "metadata": {},
   "outputs": [],
   "source": []
  }
 ],
 "metadata": {
  "kernelspec": {
   "display_name": "Python 3",
   "language": "python",
   "name": "python3"
  },
  "language_info": {
   "codemirror_mode": {
    "name": "ipython",
    "version": 3
   },
   "file_extension": ".py",
   "mimetype": "text/x-python",
   "name": "python",
   "nbconvert_exporter": "python",
   "pygments_lexer": "ipython3",
   "version": "3.7.4"
  }
 },
 "nbformat": 4,
 "nbformat_minor": 4
}
